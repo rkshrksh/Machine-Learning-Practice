{
 "cells": [
  {
   "cell_type": "code",
   "execution_count": 1,
   "metadata": {},
   "outputs": [
    {
     "name": "stderr",
     "output_type": "stream",
     "text": [
      "/home/rksh/anaconda3/lib/python3.7/importlib/_bootstrap.py:219: RuntimeWarning: numpy.ufunc size changed, may indicate binary incompatibility. Expected 192 from C header, got 216 from PyObject\n",
      "  return f(*args, **kwds)\n",
      "/home/rksh/anaconda3/lib/python3.7/importlib/_bootstrap.py:219: RuntimeWarning: numpy.ufunc size changed, may indicate binary incompatibility. Expected 192 from C header, got 216 from PyObject\n",
      "  return f(*args, **kwds)\n"
     ]
    }
   ],
   "source": [
    "# Import used modules\n",
    "# %matplotlib inline\n",
    "# import numpy as np\n",
    "# import matplotlib.pyplot as plt\n",
    "# import pandas as pd\n",
    "import mglearn\n",
    "# from IPython.display import display\n",
    "from sklearn.model_selection import train_test_split\n",
    "from sklearn.linear_model import Ridge"
   ]
  },
  {
   "cell_type": "code",
   "execution_count": 2,
   "metadata": {},
   "outputs": [],
   "source": [
    "X, y = mglearn.datasets.load_extended_boston()"
   ]
  },
  {
   "cell_type": "code",
   "execution_count": 3,
   "metadata": {},
   "outputs": [],
   "source": [
    "Xtrain, Xtest, ytrain, ytest = train_test_split(X, y, random_state=46)"
   ]
  },
  {
   "cell_type": "code",
   "execution_count": 4,
   "metadata": {},
   "outputs": [],
   "source": [
    "ridge = Ridge().fit(Xtrain, ytrain)"
   ]
  },
  {
   "cell_type": "code",
   "execution_count": 5,
   "metadata": {},
   "outputs": [
    {
     "data": {
      "text/plain": [
       "0.8581370302735876"
      ]
     },
     "execution_count": 5,
     "metadata": {},
     "output_type": "execute_result"
    }
   ],
   "source": [
    "ridge.score(Xtrain, ytrain)"
   ]
  },
  {
   "cell_type": "code",
   "execution_count": 6,
   "metadata": {},
   "outputs": [
    {
     "data": {
      "text/plain": [
       "0.867038817472982"
      ]
     },
     "execution_count": 6,
     "metadata": {},
     "output_type": "execute_result"
    }
   ],
   "source": [
    "ridge.score(Xtest, ytest)"
   ]
  },
  {
   "cell_type": "code",
   "execution_count": 7,
   "metadata": {},
   "outputs": [
    {
     "data": {
      "text/plain": [
       "array([-1.68119417e+00, -1.47589176e+00, -2.21669020e-01,  4.57129053e-01,\n",
       "        8.70535095e-01,  8.74076212e+00, -1.62348335e-01, -5.46205150e+00,\n",
       "        5.22768119e+00, -4.76156620e-02, -1.02835491e+00,  1.50279798e+00,\n",
       "       -3.22619049e+00,  5.92996963e-01,  4.57572975e-03, -1.09017240e+00,\n",
       "        1.33880999e+00, -1.52141491e+00, -1.60905687e+00, -1.51906019e+00,\n",
       "       -3.09732810e-01, -2.03133917e+00, -1.75548189e+00, -1.50379151e+00,\n",
       "       -2.31541589e+00, -4.69499117e-01,  2.36854642e+00, -1.93233927e+00,\n",
       "        2.03992550e+00,  3.62473176e-01,  4.90821563e+00, -6.17176539e-01,\n",
       "       -1.52831604e+00,  9.71173125e-02, -4.82867826e-01,  1.44716520e+00,\n",
       "       -1.00084008e+00, -1.80604089e+00,  2.41133466e+00,  2.65836286e+00,\n",
       "        5.01699157e-01, -4.22777394e+00,  3.10699831e+00, -3.57334411e+00,\n",
       "        1.18718598e+00,  2.37108327e+00, -2.43583360e+00,  5.95270326e-01,\n",
       "       -2.85236432e+00,  4.57129053e-01, -4.71178762e+00, -4.30941431e+00,\n",
       "        1.62825206e+00, -1.46980330e+00,  2.19508859e+00,  3.47246093e+00,\n",
       "        9.31796731e-01,  1.28853250e+00, -1.87482827e+00, -3.16760972e+00,\n",
       "       -3.38031614e+00, -2.55118583e+00, -5.60714142e-01, -3.41349437e+00,\n",
       "       -2.27121793e+00, -3.27924908e+00,  1.19867044e+00, -1.97077898e+00,\n",
       "        1.82876869e+01, -1.31998446e+00,  2.27114213e+00, -7.85261802e+00,\n",
       "       -9.21001691e+00, -6.14624214e+00,  9.88398449e+00, -7.82632596e+00,\n",
       "        1.74767287e+00, -2.02157534e+00,  4.37880988e+00,  1.49348969e+00,\n",
       "       -3.34921164e+00, -1.09412943e+00, -4.57793229e+00,  6.60414134e-01,\n",
       "       -2.14491602e+00, -3.31956534e+00, -4.54544389e-03, -4.65975350e+00,\n",
       "        3.40963697e-01,  1.44103957e-01,  4.14758855e-01,  2.69220735e+00,\n",
       "        2.55859923e+00, -8.09938839e+00,  7.58574886e-01,  1.97705351e+00,\n",
       "       -7.16719052e-01, -6.85052903e+00,  1.74274316e+00, -1.71246892e+00,\n",
       "       -9.76502088e-01, -7.55687443e-01, -6.06836361e+00,  1.07105236e+01])"
      ]
     },
     "execution_count": 7,
     "metadata": {},
     "output_type": "execute_result"
    }
   ],
   "source": [
    "ridge.coef_"
   ]
  },
  {
   "cell_type": "code",
   "execution_count": 8,
   "metadata": {},
   "outputs": [
    {
     "data": {
      "text/plain": [
       "20.860909251732306"
      ]
     },
     "execution_count": 8,
     "metadata": {},
     "output_type": "execute_result"
    }
   ],
   "source": [
    "ridge.intercept_"
   ]
  },
  {
   "cell_type": "code",
   "execution_count": null,
   "metadata": {},
   "outputs": [],
   "source": []
  }
 ],
 "metadata": {
  "kernelspec": {
   "display_name": "Python 3",
   "language": "python",
   "name": "python3"
  },
  "language_info": {
   "codemirror_mode": {
    "name": "ipython",
    "version": 3
   },
   "file_extension": ".py",
   "mimetype": "text/x-python",
   "name": "python",
   "nbconvert_exporter": "python",
   "pygments_lexer": "ipython3",
   "version": "3.7.3"
  }
 },
 "nbformat": 4,
 "nbformat_minor": 2
}
